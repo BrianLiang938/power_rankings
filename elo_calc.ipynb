{
 "cells": [
  {
   "cell_type": "code",
   "execution_count": 32,
   "metadata": {},
   "outputs": [],
   "source": [
    "import pandas as pd\n",
    "import os\n",
    "import time"
   ]
  },
  {
   "cell_type": "code",
   "execution_count": 5,
   "metadata": {},
   "outputs": [],
   "source": [
    "# reads in esposts-data dataframes\n",
    "# starts all teams elos at 1500\n",
    "\n",
    "teams_df = pd.read_json(\"./esports-data/teams.json\")\n",
    "teams_df[\"elo\"] = 1500.00\n",
    "\n",
    "mapping_df = pd.read_json(\"./esports-data/mapping_data.json\")"
   ]
  },
  {
   "cell_type": "code",
   "execution_count": 6,
   "metadata": {},
   "outputs": [],
   "source": [
    "# reads in all game events, and finds last stats_update for end of game stats\n",
    "\n",
    "game_df = pd.read_json(\"./games/ESPORTSTMNT03_3196037.json\")\n",
    "end_of_game_stats = game_df[game_df[\"eventType\"] == \"stats_update\"].drop_duplicates(subset=[\"eventType\"], keep=\"last\")[\"participants\"].values[0]\n",
    "game_end = game_df[game_df[\"eventType\"] == \"game_end\"]"
   ]
  },
  {
   "cell_type": "code",
   "execution_count": 7,
   "metadata": {},
   "outputs": [],
   "source": [
    "def process_game_data(game_df):\n",
    "    end_of_game_stats = game_df[game_df[\"eventType\"] == \"stats_update\"].drop_duplicates(subset=[\"eventType\"], keep=\"last\")[\"participants\"].values[0]\n",
    "    game_end = game_df[game_df[\"eventType\"] == \"game_end\"]\n",
    "    # determines winning team, losing team, team gold, and team acronym\n",
    "    winning_team = int(game_end[\"winningTeam\"].values[0])\n",
    "    if winning_team == 100:\n",
    "        losing_team = 200\n",
    "    else:\n",
    "        losing_team = 100\n",
    "\n",
    "    winning_team_prefix = \"\"\n",
    "    losing_team_prefix = \"\"\n",
    "\n",
    "    win_side_gold = 0\n",
    "    lose_side_gold = 0\n",
    "\n",
    "    for player in end_of_game_stats:\n",
    "        if player[\"teamID\"] == winning_team:\n",
    "            win_side_gold += player[\"totalGold\"]\n",
    "            winning_team_prefix = player[\"playerName\"].split(' ')[0]\n",
    "        else:\n",
    "            lose_side_gold += player[\"totalGold\"]\n",
    "            losing_team_prefix = player[\"playerName\"].split(' ')[0]\n",
    "    return win_side_gold, lose_side_gold, winning_team_prefix, losing_team_prefix"
   ]
  },
  {
   "cell_type": "code",
   "execution_count": 38,
   "metadata": {},
   "outputs": [],
   "source": [
    "def updateELO(winning_team_prefix, losing_team_prefix, performace):\n",
    "    winning_team = teams_df[teams_df[\"acronym\"] == winning_team_prefix]\n",
    "    losing_team = teams_df[teams_df[\"acronym\"] == losing_team_prefix]\n",
    "\n",
    "    winning_team_elo = winning_team[\"elo\"].values[0]\n",
    "    losing_team_elo = losing_team[\"elo\"].values[0]\n",
    "\n",
    "    expected_performance_win = 1 / (1 + pow(10, (losing_team_elo - winning_team_elo) / 400))\n",
    "    print(expected_performance_win)\n",
    "    expected_performance_lose = 1 / (1 + pow(10, (winning_team_elo - losing_team_elo) / 400))\n",
    "    k = 120\n",
    "\n",
    "    new_elo_win = winning_team_elo + k * (performace - expected_performance_win)\n",
    "    new_elo_lose = losing_team_elo + k * ((1 - performace) - expected_performance_lose)\n",
    "\n",
    "    teams_df.loc[teams_df[\"acronym\"] == winning_team_prefix, \"elo\"] = new_elo_win\n",
    "    teams_df.loc[teams_df[\"acronym\"] == losing_team_prefix, \"elo\"] = new_elo_lose\n",
    "    \n",
    "    return winning_team_elo, losing_team_elo\n",
    "    "
   ]
  },
  {
   "cell_type": "code",
   "execution_count": 140,
   "metadata": {},
   "outputs": [
    {
     "data": {
      "text/plain": [
       "(53655, 41352, 'MIR', 'ROTM')"
      ]
     },
     "execution_count": 140,
     "metadata": {},
     "output_type": "execute_result"
    }
   ],
   "source": [
    "# determines winning team, losing team, team gold, and team acronym\n",
    "winning_team = int(game_end[\"winningTeam\"].values[0])\n",
    "if winning_team == 100:\n",
    "    losing_team = 200\n",
    "else:\n",
    "    losing_team = 100\n",
    "\n",
    "winning_team_prefix = \"\"\n",
    "losing_team_prefix = \"\"\n",
    "\n",
    "win_side_gold = 0\n",
    "lose_side_gold = 0\n",
    "\n",
    "for player in end_of_game_stats:\n",
    "    if player[\"teamID\"] == winning_team:\n",
    "        win_side_gold += player[\"totalGold\"]\n",
    "        winning_team_prefix = player[\"playerName\"].split(' ')[0]\n",
    "    else:\n",
    "        lose_side_gold += player[\"totalGold\"]\n",
    "        losing_team_prefix = player[\"playerName\"].split(' ')[0]\n",
    "\n",
    "win_side_gold, lose_side_gold, winning_team_prefix, losing_team_prefix"
   ]
  },
  {
   "cell_type": "code",
   "execution_count": 91,
   "metadata": {},
   "outputs": [
    {
     "data": {
      "text/plain": [
       "'ESPORTSTMNT03:3196037'"
      ]
     },
     "execution_count": 91,
     "metadata": {},
     "output_type": "execute_result"
    }
   ],
   "source": [
    "# platformGameId for the game played\n",
    "platformGameId = game_df[game_df[\"eventType\"] == \"game_info\"][\"platformGameId\"].values[0]\n",
    "platformGameId"
   ]
  },
  {
   "cell_type": "code",
   "execution_count": 142,
   "metadata": {},
   "outputs": [],
   "source": [
    "# game_df team ids -> teams_df ids\n",
    "# 109981650516317055 -> 109981650516317056\n",
    "# 110733889090164854 -> 110733889090164848\n",
    "# ids are unreliable, use acronyms in usernames maybe?\n",
    "winning_team = teams_df[teams_df[\"acronym\"] == winning_team_prefix]\n",
    "losing_team = teams_df[teams_df[\"acronym\"] == losing_team_prefix]"
   ]
  },
  {
   "cell_type": "code",
   "execution_count": 145,
   "metadata": {},
   "outputs": [
    {
     "data": {
      "text/plain": [
       "(1500, 1500)"
      ]
     },
     "execution_count": 145,
     "metadata": {},
     "output_type": "execute_result"
    }
   ],
   "source": [
    "# pulls the current elo of the teams (starts at 1500 by default)\n",
    "\n",
    "winning_team_elo = winning_team[\"elo\"].values[0]\n",
    "losing_team_elo = losing_team[\"elo\"].values[0]\n",
    "\n",
    "winning_team_elo, losing_team_elo"
   ]
  },
  {
   "cell_type": "code",
   "execution_count": 166,
   "metadata": {},
   "outputs": [
    {
     "data": {
      "text/plain": [
       "(1512.9495721367898, 1487.0504278632102)"
      ]
     },
     "execution_count": 166,
     "metadata": {},
     "output_type": "execute_result"
    }
   ],
   "source": [
    "# elo calculation, in future actual_performance should be found via a model and k needs to be adjusted accordingly\n",
    "# actual_performance is [0,1] and should account for a winning team's performance (not probability to win!)\n",
    "# the losing team's performance is 1 - actual_performance\n",
    "# thoughts on actual_performance being floored at a certain val? (depending on model. currently .55)\n",
    "\n",
    "expected_performance_win = 1 / (1 + pow(10, (winning_team_elo - losing_team_elo) / 400))\n",
    "expected_performance_lose = 1 / (1 + pow(10, (winning_team_elo - losing_team_elo) / 400))\n",
    "actual_performace = max(.55, .5 + (win_side_gold - lose_side_gold) / (win_side_gold + lose_side_gold))\n",
    "k = 100\n",
    "\n",
    "new_elo_win = winning_team_elo + k * (actual_performace - expected_performance_win)\n",
    "new_elo_lose = losing_team_elo + k * ((1 - actual_performace) - expected_performance_lose)\n",
    "\n",
    "new_elo_win, new_elo_lose"
   ]
  },
  {
   "cell_type": "code",
   "execution_count": 165,
   "metadata": {},
   "outputs": [
    {
     "data": {
      "text/html": [
       "<div>\n",
       "<style scoped>\n",
       "    .dataframe tbody tr th:only-of-type {\n",
       "        vertical-align: middle;\n",
       "    }\n",
       "\n",
       "    .dataframe tbody tr th {\n",
       "        vertical-align: top;\n",
       "    }\n",
       "\n",
       "    .dataframe thead th {\n",
       "        text-align: right;\n",
       "    }\n",
       "</style>\n",
       "<table border=\"1\" class=\"dataframe\">\n",
       "  <thead>\n",
       "    <tr style=\"text-align: right;\">\n",
       "      <th></th>\n",
       "      <th>team_id</th>\n",
       "      <th>name</th>\n",
       "      <th>acronym</th>\n",
       "      <th>slug</th>\n",
       "      <th>elo</th>\n",
       "    </tr>\n",
       "  </thead>\n",
       "  <tbody>\n",
       "    <tr>\n",
       "      <th>225</th>\n",
       "      <td>109981650516317056</td>\n",
       "      <td>Mirage Alliance</td>\n",
       "      <td>MIR</td>\n",
       "      <td>mirage-alliance</td>\n",
       "      <td>1512.949572</td>\n",
       "    </tr>\n",
       "    <tr>\n",
       "      <th>231</th>\n",
       "      <td>110733889090164848</td>\n",
       "      <td>Return of the Middlesticks</td>\n",
       "      <td>ROTM</td>\n",
       "      <td>return-of-the-middlesticks</td>\n",
       "      <td>1487.050428</td>\n",
       "    </tr>\n",
       "  </tbody>\n",
       "</table>\n",
       "</div>"
      ],
      "text/plain": [
       "                team_id                        name acronym  \\\n",
       "225  109981650516317056             Mirage Alliance     MIR   \n",
       "231  110733889090164848  Return of the Middlesticks    ROTM   \n",
       "\n",
       "                           slug          elo  \n",
       "225             mirage-alliance  1512.949572  \n",
       "231  return-of-the-middlesticks  1487.050428  "
      ]
     },
     "execution_count": 165,
     "metadata": {},
     "output_type": "execute_result"
    }
   ],
   "source": [
    "# updates elo of teams in teams_df to new values\n",
    "\n",
    "teams_df.loc[teams_df[\"acronym\"] == winning_team_prefix, \"elo\"] = new_elo_win\n",
    "teams_df.loc[teams_df[\"acronym\"] == losing_team_prefix, \"elo\"] = new_elo_lose\n",
    "teams_df[teams_df[\"elo\"] != 1500]"
   ]
  },
  {
   "cell_type": "code",
   "execution_count": 40,
   "metadata": {},
   "outputs": [
    {
     "name": "stdout",
     "output_type": "stream",
     "text": [
      "0.5\n",
      "0.5446073222541938\n",
      "0.5\n",
      "0.5561616991983609\n",
      "0.4743324968172563\n"
     ]
    },
    {
     "data": {
      "text/html": [
       "<div>\n",
       "<style scoped>\n",
       "    .dataframe tbody tr th:only-of-type {\n",
       "        vertical-align: middle;\n",
       "    }\n",
       "\n",
       "    .dataframe tbody tr th {\n",
       "        vertical-align: top;\n",
       "    }\n",
       "\n",
       "    .dataframe thead th {\n",
       "        text-align: right;\n",
       "    }\n",
       "</style>\n",
       "<table border=\"1\" class=\"dataframe\">\n",
       "  <thead>\n",
       "    <tr style=\"text-align: right;\">\n",
       "      <th></th>\n",
       "      <th>team_id</th>\n",
       "      <th>name</th>\n",
       "      <th>acronym</th>\n",
       "      <th>slug</th>\n",
       "      <th>elo</th>\n",
       "    </tr>\n",
       "  </thead>\n",
       "  <tbody>\n",
       "    <tr>\n",
       "      <th>131</th>\n",
       "      <td>110534732558665824</td>\n",
       "      <td>Komodo</td>\n",
       "      <td>KMD</td>\n",
       "      <td>komodo</td>\n",
       "      <td>1465.962092</td>\n",
       "    </tr>\n",
       "    <tr>\n",
       "      <th>225</th>\n",
       "      <td>109981650516317056</td>\n",
       "      <td>Mirage Alliance</td>\n",
       "      <td>MIR</td>\n",
       "      <td>mirage-alliance</td>\n",
       "      <td>1535.543215</td>\n",
       "    </tr>\n",
       "    <tr>\n",
       "      <th>231</th>\n",
       "      <td>110733889090164848</td>\n",
       "      <td>Return of the Middlesticks</td>\n",
       "      <td>ROTM</td>\n",
       "      <td>return-of-the-middlesticks</td>\n",
       "      <td>1483.813392</td>\n",
       "    </tr>\n",
       "    <tr>\n",
       "      <th>606</th>\n",
       "      <td>110733877357854832</td>\n",
       "      <td>Gentle Hearts Gaming</td>\n",
       "      <td>GHG</td>\n",
       "      <td>gentle-hearts-gaming</td>\n",
       "      <td>1514.681301</td>\n",
       "    </tr>\n",
       "  </tbody>\n",
       "</table>\n",
       "</div>"
      ],
      "text/plain": [
       "                team_id                        name acronym  \\\n",
       "131  110534732558665824                      Komodo     KMD   \n",
       "225  109981650516317056             Mirage Alliance     MIR   \n",
       "231  110733889090164848  Return of the Middlesticks    ROTM   \n",
       "606  110733877357854832        Gentle Hearts Gaming     GHG   \n",
       "\n",
       "                           slug          elo  \n",
       "131                      komodo  1465.962092  \n",
       "225             mirage-alliance  1535.543215  \n",
       "231  return-of-the-middlesticks  1483.813392  \n",
       "606        gentle-hearts-gaming  1514.681301  "
      ]
     },
     "execution_count": 40,
     "metadata": {},
     "output_type": "execute_result"
    }
   ],
   "source": [
    "teams_df[\"elo\"] = 1500.00\n",
    "\n",
    "for file_path in os.listdir(\"./games/\"):\n",
    "    game_df = pd.read_json(f\"./games/{file_path}\")\n",
    "    processed_game_data = process_game_data(game_df)\n",
    "    performance = max(.55, .5 + (processed_game_data[0] - processed_game_data[1]) / (processed_game_data[0] + processed_game_data[1]))\n",
    "    updateELO(processed_game_data[2], processed_game_data[3], performance)\n",
    "teams_df[teams_df[\"elo\"] != 1500]"
   ]
  }
 ],
 "metadata": {
  "kernelspec": {
   "display_name": "Python 3",
   "language": "python",
   "name": "python3"
  },
  "language_info": {
   "codemirror_mode": {
    "name": "ipython",
    "version": 3
   },
   "file_extension": ".py",
   "mimetype": "text/x-python",
   "name": "python",
   "nbconvert_exporter": "python",
   "pygments_lexer": "ipython3",
   "version": "3.11.5"
  },
  "orig_nbformat": 4
 },
 "nbformat": 4,
 "nbformat_minor": 2
}
