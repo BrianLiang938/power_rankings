{
 "cells": [
  {
   "cell_type": "code",
   "execution_count": 9,
   "metadata": {},
   "outputs": [],
   "source": [
    "import pandas as pd\n",
    "import os\n",
    "import json\n",
    "import datetime as dt\n",
    "import math"
   ]
  },
  {
   "cell_type": "code",
   "execution_count": 10,
   "metadata": {},
   "outputs": [],
   "source": [
    "def read_json(filepath):\n",
    "    f = open(filepath)\n",
    "    data = json.load(f)\n",
    "    return pd.DataFrame.from_dict(data)"
   ]
  },
  {
   "cell_type": "code",
   "execution_count": 11,
   "metadata": {},
   "outputs": [],
   "source": [
    "team_df = read_json(\"./esports-data/teams.json\")\n",
    "mapping_df = read_json(\"./esports-data/mapping_data.json\")\n",
    "game_df = read_json(\"./games/LPL_A_343996.json\")"
   ]
  },
  {
   "cell_type": "code",
   "execution_count": 12,
   "metadata": {},
   "outputs": [
    {
     "data": {
      "text/plain": [
       "{'building_destroyed',\n",
       " 'champion_kill',\n",
       " 'champion_kill_special',\n",
       " 'champion_level_up',\n",
       " 'epic_monster_kill',\n",
       " 'epic_monster_spawn',\n",
       " 'game_end',\n",
       " 'game_info',\n",
       " 'item_destroyed',\n",
       " 'item_purchased',\n",
       " 'item_sold',\n",
       " 'item_undo',\n",
       " 'objective_bounty_prestart',\n",
       " 'queued_dragon_info',\n",
       " 'queued_epic_monster_info',\n",
       " 'skill_level_up',\n",
       " 'stats_update',\n",
       " 'summoner_spell_used',\n",
       " 'turret_plate_destroyed',\n",
       " 'turret_plate_gold_earned',\n",
       " 'ward_killed',\n",
       " 'ward_placed'}"
      ]
     },
     "execution_count": 12,
     "metadata": {},
     "output_type": "execute_result"
    }
   ],
   "source": [
    "set(game_df[\"eventType\"].values)"
   ]
  },
  {
   "cell_type": "code",
   "execution_count": 81,
   "metadata": {},
   "outputs": [
    {
     "data": {
      "text/plain": [
       "2272.0"
      ]
     },
     "execution_count": 81,
     "metadata": {},
     "output_type": "execute_result"
    }
   ],
   "source": [
    "pd.set_option('display.max_columns', None)\n",
    "sum(game_df[(game_df[\"eventType\"] == \"turret_plate_gold_earned\")][\"bounty\"])"
   ]
  },
  {
   "cell_type": "code",
   "execution_count": 14,
   "metadata": {},
   "outputs": [],
   "source": [
    "# real full game time is 23:35\n",
    "# https://www.youtube.com/watch?v=37JuelCihvM\n",
    "\n",
    "# game_info -> game_end\n",
    "end_time_str =  game_df[game_df[\"eventType\"] == \"game_end\"][\"eventTime\"].values[0]\n",
    "end_time = dt.datetime.strptime(end_time_str, \"%Y-%m-%dT%H:%M:%S.%fZ\")"
   ]
  },
  {
   "cell_type": "code",
   "execution_count": 15,
   "metadata": {},
   "outputs": [
    {
     "name": "stdout",
     "output_type": "stream",
     "text": [
      "0:24:25.564000\n"
     ]
    }
   ],
   "source": [
    "# first stats_update to game_end\n",
    "\n",
    "new_start_time_str =  game_df[game_df[\"eventType\"] == \"stats_update\"][\"eventTime\"].values[0]\n",
    "new_start_time = dt.datetime.strptime(new_start_time_str, \"%Y-%m-%dT%H:%M:%S.%fZ\")\n",
    "print(end_time - new_start_time)"
   ]
  },
  {
   "cell_type": "code",
   "execution_count": 22,
   "metadata": {},
   "outputs": [],
   "source": [
    "def split_by_time(dataframe, early_game = 14, late_game = 25):\n",
    "    new_df = dataframe.copy()\n",
    "    new_df[\"dateTime\"] = pd.to_datetime(new_df[\"eventTime\"]).dt.tz_localize(None)\n",
    "    start_time_str = new_df[new_df[\"eventType\"] == \"game_info\"][\"eventTime\"].values[0]\n",
    "    start_time = dt.datetime.strptime(start_time_str, \"%Y-%m-%dT%H:%M:%S.%fZ\")\n",
    "    early_game_cutoff = start_time + dt.timedelta(minutes=early_game)\n",
    "    late_game_cutoff = start_time + dt.timedelta(minutes=late_game)\n",
    "    early_game_df = new_df[new_df[\"dateTime\"] <= early_game_cutoff]\n",
    "    mid_game_df = new_df[(new_df[\"dateTime\"] >= early_game_cutoff) & (new_df[\"dateTime\"] <= late_game_cutoff)]\n",
    "    late_game_df = new_df[new_df[\"dateTime\"] >= late_game_cutoff]\n",
    "    return (early_game_df, mid_game_df, late_game_df)"
   ]
  },
  {
   "cell_type": "code",
   "execution_count": 24,
   "metadata": {},
   "outputs": [],
   "source": [
    "game_splits = split_by_time(game_df)\n",
    "early_game_df = game_splits[0]"
   ]
  },
  {
   "cell_type": "code",
   "execution_count": 86,
   "metadata": {},
   "outputs": [
    {
     "name": "stderr",
     "output_type": "stream",
     "text": [
      "C:\\Users\\Brian\\AppData\\Local\\Temp\\ipykernel_8464\\1803495779.py:9: FutureWarning: Calling float on a single element Series is deprecated and will raise a TypeError in the future. Use float(ser.iloc[0]) instead\n",
      "  first_blood = int(winning_team == math.ceil(game_df[game_df[\"killType\"] == \"firstBlood\"][\"killer\"] / 5) * 100)\n"
     ]
    }
   ],
   "source": [
    "game_id = game_df[\"platformGameId\"].values[0]\n",
    "\n",
    "game_end = game_df[game_df[\"eventType\"] == \"game_end\"]\n",
    "winning_team = int(game_end[\"winningTeam\"].values[0])\n",
    "\n",
    "team_id = mapping_df[mapping_df[\"platformGameId\"] == game_id][\"teamMapping\"].values[0][str(winning_team)]\n",
    "\n",
    "team_name = team_df[team_df[\"team_id\"] == team_id][\"name\"].values[0]\n",
    "first_blood = int(winning_team == math.ceil(game_df[game_df[\"killType\"] == \"firstBlood\"][\"killer\"] / 5) * 100)\n",
    "\n",
    "early_kill_gained = len(early_game_df[(early_game_df[\"eventType\"] == \"champion_kill\") & (early_game_df[\"killer\"] <= 5)])\n",
    "early_kill_given = len(early_game_df[(early_game_df[\"eventType\"] == \"champion_kill\") & (early_game_df[\"killer\"] > 5)])\n",
    "\n",
    "early_tower_taken = len(early_game_df[(early_game_df[\"eventType\"] == \"building_destroyed\") & (early_game_df[\"teamID\"] == winning_team)])\n",
    "early_tower_given = len(early_game_df[(early_game_df[\"eventType\"] == \"building_destroyed\") & (early_game_df[\"teamID\"] != winning_team)])\n",
    "\n",
    "early_dragon_taken = len(early_game_df[(early_game_df[\"killerTeamID\"] == winning_team) & (early_game_df[\"monsterType\"] == \"dragon\")])\n",
    "early_dragon_given = len(early_game_df[(early_game_df[\"eventType\"] == \"epic_monster_kill\") & (early_game_df[\"killerTeamID\"]!= winning_team) & (early_game_df[\"monsterType\"] == \"riftHerald\")])\n",
    "\n",
    "early_rift_taken = len(early_game_df[(early_game_df[\"killerTeamID\"] == winning_team) & (early_game_df[\"monsterType\"] == \"riftHerald\")])\n",
    "early_rift_given = len(early_game_df[(early_game_df[\"eventType\"] == \"epic_monster_kill\") & (early_game_df[\"killerTeamID\"]!= winning_team) & (early_game_df[\"monsterType\"] == \"riftHerald\")])\n",
    "\n",
    "early_plate_gold_taken = sum(early_game_df[(early_game_df[\"eventType\"] == \"turret_plate_gold_earned\") & (early_game_df[\"teamID\"] == winning_team)][\"bounty\"])\n",
    "early_plate_gold_given = sum(early_game_df[(early_game_df[\"eventType\"] == \"turret_plate_gold_earned\") & (early_game_df[\"teamID\"] != winning_team)][\"bounty\"])\n",
    "\n",
    "features = {\"game_id\": [game_id], \"winning_team\": [winning_team], \"team_id\": [team_id], \"team_name\": [team_name], \"first_blood\": [first_blood], \"early_kill_gained\": [early_kill_gained],\n",
    "            \"early_kill_given\": [early_kill_given], \"early_tower_taken\": [early_tower_taken], \"early_tower_given\": [early_tower_given], \"early_dragon_taken\": [early_dragon_taken],\n",
    "            \"early_dragon_given\": early_tower_given, \"early_rift_taken\": early_rift_taken, \"early_rift_given\": early_rift_given}"
   ]
  },
  {
   "cell_type": "code",
   "execution_count": 87,
   "metadata": {},
   "outputs": [
    {
     "data": {
      "text/plain": [
       "(874.0, 873.0)"
      ]
     },
     "execution_count": 87,
     "metadata": {},
     "output_type": "execute_result"
    }
   ],
   "source": [
    "early_plate_gold_taken, early_plate_gold_given"
   ]
  },
  {
   "cell_type": "code",
   "execution_count": 78,
   "metadata": {},
   "outputs": [
    {
     "data": {
      "text/html": [
       "<div>\n",
       "<style scoped>\n",
       "    .dataframe tbody tr th:only-of-type {\n",
       "        vertical-align: middle;\n",
       "    }\n",
       "\n",
       "    .dataframe tbody tr th {\n",
       "        vertical-align: top;\n",
       "    }\n",
       "\n",
       "    .dataframe thead th {\n",
       "        text-align: right;\n",
       "    }\n",
       "</style>\n",
       "<table border=\"1\" class=\"dataframe\">\n",
       "  <thead>\n",
       "    <tr style=\"text-align: right;\">\n",
       "      <th></th>\n",
       "      <th>game_id</th>\n",
       "      <th>winning_team</th>\n",
       "      <th>team_id</th>\n",
       "      <th>team_name</th>\n",
       "      <th>first_blood</th>\n",
       "      <th>early_kill_gained</th>\n",
       "      <th>early_kill_given</th>\n",
       "      <th>early_tower_taken</th>\n",
       "      <th>early_tower_given</th>\n",
       "      <th>early_dragon_taken</th>\n",
       "      <th>early_dragon_given</th>\n",
       "      <th>early_rift_taken</th>\n",
       "      <th>early_rift_given</th>\n",
       "    </tr>\n",
       "  </thead>\n",
       "  <tbody>\n",
       "    <tr>\n",
       "      <th>0</th>\n",
       "      <td>LPL_A:343996</td>\n",
       "      <td>100</td>\n",
       "      <td>99566404853058754</td>\n",
       "      <td>WeiboGaming FAW AUDI</td>\n",
       "      <td>1</td>\n",
       "      <td>6</td>\n",
       "      <td>4</td>\n",
       "      <td>0</td>\n",
       "      <td>0</td>\n",
       "      <td>1</td>\n",
       "      <td>0</td>\n",
       "      <td>0</td>\n",
       "      <td>1</td>\n",
       "    </tr>\n",
       "  </tbody>\n",
       "</table>\n",
       "</div>"
      ],
      "text/plain": [
       "        game_id  winning_team            team_id             team_name  \\\n",
       "0  LPL_A:343996           100  99566404853058754  WeiboGaming FAW AUDI   \n",
       "\n",
       "   first_blood  early_kill_gained  early_kill_given  early_tower_taken  \\\n",
       "0            1                  6                 4                  0   \n",
       "\n",
       "   early_tower_given  early_dragon_taken  early_dragon_given  \\\n",
       "0                  0                   1                   0   \n",
       "\n",
       "   early_rift_taken  early_rift_given  \n",
       "0                 0                 1  "
      ]
     },
     "execution_count": 78,
     "metadata": {},
     "output_type": "execute_result"
    }
   ],
   "source": [
    "features_df = pd.DataFrame()\n",
    "features_df = pd.concat([features_df, pd.DataFrame.from_dict(features)], ignore_index=True)\n",
    "\n",
    "features_df"
   ]
  }
 ],
 "metadata": {
  "kernelspec": {
   "display_name": "Python 3",
   "language": "python",
   "name": "python3"
  },
  "language_info": {
   "codemirror_mode": {
    "name": "ipython",
    "version": 3
   },
   "file_extension": ".py",
   "mimetype": "text/x-python",
   "name": "python",
   "nbconvert_exporter": "python",
   "pygments_lexer": "ipython3",
   "version": "3.11.5"
  }
 },
 "nbformat": 4,
 "nbformat_minor": 2
}
