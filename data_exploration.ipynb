{
  "cells": [
    {
      "cell_type": "markdown",
      "metadata": {},
      "source": [
        "# Data Exploration"
      ]
    },
    {
      "cell_type": "markdown",
      "metadata": {},
      "source": [
        "Loading in the data and learning more about what we have access to"
      ]
    },
    {
      "cell_type": "code",
      "execution_count": 2,
      "metadata": {},
      "outputs": [],
      "source": [
        "import pandas as pd\n",
        "from collections import defaultdict\n",
        "import os\n",
        "from sklearn import linear_model"
      ]
    },
    {
      "cell_type": "code",
      "execution_count": 3,
      "metadata": {},
      "outputs": [],
      "source": [
        "# leagues_df = pd.read_json(\"esports-data/leagues.json\")\n",
        "# players_df = pd.read_json(\"esports-data/players.json\")\n",
        "# teams_df = pd.read_json(\"esports-data/teams.json\")\n",
        "# tournaments_df = pd.read_json(\"esports-data/tournaments.json\")"
      ]
    },
    {
      "cell_type": "code",
      "execution_count": 4,
      "metadata": {},
      "outputs": [],
      "source": [
        "single_game_df = pd.read_json(\"games/ESPORTSTMNT03_3195064.json\")\n",
        "\n",
        "# game_info = single_game_df[single_game_df[\"eventType\"] == \"game_info\"]\n",
        "# for x in game_info[\"participants\"][0]:\n",
        "#     print(x)"
      ]
    },
    {
      "cell_type": "code",
      "execution_count": 5,
      "metadata": {},
      "outputs": [],
      "source": [
        "def get_team_players(game_info):\n",
        "    participants = game_info[\"participants\"]\n",
        "    team = defaultdict(list)\n",
        "    for participant in participants:\n",
        "        for info in participant:\n",
        "            team[info[\"summonerName\"].split(\" \")[0]].append(info)\n",
        "\n",
        "    return team"
      ]
    },
    {
      "cell_type": "code",
      "execution_count": 6,
      "metadata": {},
      "outputs": [
        {
          "data": {
            "text/plain": [
              "{'building_destroyed',\n",
              " 'champion_kill',\n",
              " 'champion_kill_special',\n",
              " 'champion_level_up',\n",
              " 'epic_monster_kill',\n",
              " 'epic_monster_spawn',\n",
              " 'game_end',\n",
              " 'game_info',\n",
              " 'item_destroyed',\n",
              " 'item_purchased',\n",
              " 'item_sold',\n",
              " 'item_undo',\n",
              " 'objective_bounty_prestart',\n",
              " 'queued_dragon_info',\n",
              " 'queued_epic_monster_info',\n",
              " 'skill_level_up',\n",
              " 'stats_update',\n",
              " 'summoner_spell_used',\n",
              " 'turret_plate_destroyed',\n",
              " 'turret_plate_gold_earned',\n",
              " 'ward_killed',\n",
              " 'ward_placed'}"
            ]
          },
          "execution_count": 6,
          "metadata": {},
          "output_type": "execute_result"
        }
      ],
      "source": [
        "# All event types in this game\n",
        "set(single_game_df[\"eventType\"])"
      ]
    },
    {
      "cell_type": "code",
      "execution_count": 7,
      "metadata": {},
      "outputs": [],
      "source": [
        "def get_players_to_team(game_info):\n",
        "    teams_to_players = get_team_players(game_info)\n",
        "    players_to_team = {}\n",
        "    for team_id,info in teams_to_players.items():\n",
        "        for player in info:\n",
        "            players_to_team[player[\"participantID\"]] = player[\"teamID\"]\n",
        "    \n",
        "    return players_to_team"
      ]
    },
    {
      "cell_type": "code",
      "execution_count": 8,
      "metadata": {},
      "outputs": [],
      "source": [
        "# team_ids = defaultdict(int)\n",
        "# for team in teams_to_players.keys():\n",
        "#     team_ids[team] = 0"
      ]
    },
    {
      "cell_type": "code",
      "execution_count": 9,
      "metadata": {},
      "outputs": [],
      "source": [
        "def teamID_to_teamLetters(game_info):\n",
        "    teamID_to_teamLetters = {}\n",
        "    for participant in game_info[\"participants\"][0]:\n",
        "        teamID = participant[\"teamID\"]\n",
        "        if teamID not in teamID_to_teamLetters:\n",
        "            teamID_to_teamLetters[teamID] = participant[\"summonerName\"].split(\" \")[0] #Grab the first part of the name. ie: TSM Doublelift -> TSM\n",
        "\n",
        "    return teamID_to_teamLetters"
      ]
    },
    {
      "cell_type": "code",
      "execution_count": 10,
      "metadata": {},
      "outputs": [],
      "source": [
        "def get_game_id(single_game_df):\n",
        "    game_info = single_game_df[single_game_df[\"eventType\"] == \"game_info\"]\n",
        "    return game_info[\"platformGameId\"][0]"
      ]
    },
    {
      "cell_type": "code",
      "execution_count": 11,
      "metadata": {},
      "outputs": [],
      "source": [
        "def get_num_kills(single_game_df, teamLetters):\n",
        "    numKills = defaultdict(int)\n",
        "\n",
        "    kill_info = single_game_df[single_game_df[\"eventType\"] == \"champion_kill\"]\n",
        "\n",
        "    for _, row in kill_info.iterrows():\n",
        "        numKills[teamLetters[int(row[\"killerTeamID\"])]] += 1\n",
        "\n",
        "    return numKills"
      ]
    },
    {
      "cell_type": "code",
      "execution_count": 12,
      "metadata": {},
      "outputs": [],
      "source": [
        "def get_num_wards(single_game_df, teamLetters, players_to_team):\n",
        "    numWards = defaultdict(int)\n",
        "\n",
        "    ward_info = single_game_df[single_game_df[\"eventType\"] == \"ward_placed\"]\n",
        "\n",
        "    for _, row in ward_info.iterrows():\n",
        "        numWards[teamLetters[players_to_team[row[\"placer\"]]]] += 1\n",
        "\n",
        "    return numWards"
      ]
    },
    {
      "cell_type": "code",
      "execution_count": 13,
      "metadata": {},
      "outputs": [],
      "source": [
        "def get_first_blood(single_game_df, teamLetters, players_to_team):\n",
        "    firstBlood = {}\n",
        "    for _, letters in teamLetters.items():\n",
        "        firstBlood[letters] = 0\n",
        "\n",
        "    firstBlood_df = single_game_df[single_game_df[\"killType\"] == \"firstBlood\"]\n",
        "    firstBlood_df = firstBlood_df[firstBlood_df.columns[~firstBlood_df.isnull().all()]]\n",
        "\n",
        "    for _, row in firstBlood_df.iterrows():\n",
        "        firstBlood[teamLetters[players_to_team[row[\"killer\"]]]] += 1\n",
        "\n",
        "    return firstBlood"
      ]
    },
    {
      "cell_type": "code",
      "execution_count": 14,
      "metadata": {},
      "outputs": [],
      "source": [
        "def get_winning_team(single_game_df, teamLetters):\n",
        "    winningTeam = {}\n",
        "    for _, letters in teamLetters.items():\n",
        "        winningTeam[letters] = 0\n",
        "\n",
        "    game_end_info = single_game_df[single_game_df[\"eventType\"] == \"game_end\"]\n",
        "    game_end_info = game_end_info[game_end_info.columns[~game_end_info.isnull().all()]]\n",
        "\n",
        "    for _, row in game_end_info.iterrows():\n",
        "        winningTeam[teamLetters[int(row[\"winningTeam\"])]] += 1\n",
        "\n",
        "    return winningTeam"
      ]
    },
    {
      "cell_type": "code",
      "execution_count": 15,
      "metadata": {},
      "outputs": [],
      "source": [
        "def get_losing_team(single_game_df, teamLetters):\n",
        "    teamResults = get_winning_team(single_game_df, teamLetters)\n",
        "    for letters, win in teamResults.items():\n",
        "        teamResults[letters] = 0 if win else 1\n",
        "\n",
        "    return teamResults    "
      ]
    },
    {
      "cell_type": "code",
      "execution_count": 16,
      "metadata": {},
      "outputs": [],
      "source": [
        "def transform_to_linear_model_df(single_game_df):\n",
        "    \"\"\"\n",
        "    Takes a single game dataframe, and converts it to the following format:\n",
        "            numKills    |   numWards    |   firstBlood  |   ...\n",
        "    team1:              |               |               |\n",
        "    --------------------|---------------|---------------|----------\n",
        "    team2:              |               |               |\n",
        "    \"\"\"\n",
        "    teamLetters = teamID_to_teamLetters(single_game_df[single_game_df[\"eventType\"] == \"game_info\"])\n",
        "    players_to_team = get_players_to_team(single_game_df[single_game_df[\"eventType\"] == \"game_info\"])\n",
        "    model_dict = {\n",
        "        'game': get_game_id(single_game_df),\n",
        "        'numKills': get_num_kills(single_game_df, teamLetters),\n",
        "        'numWards': get_num_wards(single_game_df, teamLetters, players_to_team),\n",
        "        'firstBlood': get_first_blood(single_game_df, teamLetters, players_to_team),\n",
        "        'wins': get_winning_team(single_game_df, teamLetters),\n",
        "        'losses': get_losing_team(single_game_df, teamLetters),\n",
        "    }\n",
        "    # print(model_dict)\n",
        "    # return pd.DataFrame.from_dict(model_dict)\n",
        "    return model_dict"
      ]
    },
    {
      "cell_type": "code",
      "execution_count": 17,
      "metadata": {},
      "outputs": [
        {
          "data": {
            "text/plain": [
              "{'game': 'ESPORTSTMNT03:3195064',\n",
              " 'numKills': defaultdict(int, {'TA': 15, 'TRV': 27}),\n",
              " 'numWards': defaultdict(int, {'TA': 51, 'TRV': 41}),\n",
              " 'firstBlood': {'TA': 1, 'TRV': 0},\n",
              " 'wins': {'TA': 0, 'TRV': 1},\n",
              " 'losses': {'TA': 1, 'TRV': 0}}"
            ]
          },
          "execution_count": 17,
          "metadata": {},
          "output_type": "execute_result"
        }
      ],
      "source": [
        "transform_to_linear_model_df(single_game_df)"
      ]
    },
    {
      "cell_type": "code",
      "execution_count": 39,
      "metadata": {},
      "outputs": [
        {
          "ename": "KeyError",
          "evalue": "300",
          "output_type": "error",
          "traceback": [
            "\u001b[0;31m---------------------------------------------------------------------------\u001b[0m",
            "\u001b[0;31mKeyError\u001b[0m                                  Traceback (most recent call last)",
            "\u001b[1;32m/Users/prashantn/power_rankings/data_exploration.ipynb Cell 19\u001b[0m line \u001b[0;36m8\n\u001b[1;32m      <a href='vscode-notebook-cell:/Users/prashantn/power_rankings/data_exploration.ipynb#X23sZmlsZQ%3D%3D?line=5'>6</a>\u001b[0m \u001b[39mfor\u001b[39;00m game \u001b[39min\u001b[39;00m games:\n\u001b[1;32m      <a href='vscode-notebook-cell:/Users/prashantn/power_rankings/data_exploration.ipynb#X23sZmlsZQ%3D%3D?line=6'>7</a>\u001b[0m     single_game_df \u001b[39m=\u001b[39m pd\u001b[39m.\u001b[39mread_json(\u001b[39mf\u001b[39m\u001b[39m\"\u001b[39m\u001b[39mgames/\u001b[39m\u001b[39m{\u001b[39;00mgame\u001b[39m}\u001b[39;00m\u001b[39m\"\u001b[39m)\n\u001b[0;32m----> <a href='vscode-notebook-cell:/Users/prashantn/power_rankings/data_exploration.ipynb#X23sZmlsZQ%3D%3D?line=7'>8</a>\u001b[0m     linear_df \u001b[39m=\u001b[39m transform_to_linear_model_df(single_game_df\u001b[39m=\u001b[39;49msingle_game_df)\n\u001b[1;32m      <a href='vscode-notebook-cell:/Users/prashantn/power_rankings/data_exploration.ipynb#X23sZmlsZQ%3D%3D?line=8'>9</a>\u001b[0m     \u001b[39mfor\u001b[39;00m feature,team_to_float \u001b[39min\u001b[39;00m linear_df\u001b[39m.\u001b[39mitems():\n\u001b[1;32m     <a href='vscode-notebook-cell:/Users/prashantn/power_rankings/data_exploration.ipynb#X23sZmlsZQ%3D%3D?line=9'>10</a>\u001b[0m         \u001b[39m# print(team_to_float)\u001b[39;00m\n\u001b[1;32m     <a href='vscode-notebook-cell:/Users/prashantn/power_rankings/data_exploration.ipynb#X23sZmlsZQ%3D%3D?line=10'>11</a>\u001b[0m         \u001b[39mif\u001b[39;00m feature \u001b[39m!=\u001b[39m \u001b[39m\"\u001b[39m\u001b[39mgame\u001b[39m\u001b[39m\"\u001b[39m:\n",
            "\u001b[1;32m/Users/prashantn/power_rankings/data_exploration.ipynb Cell 19\u001b[0m line \u001b[0;36m1\n\u001b[1;32m      <a href='vscode-notebook-cell:/Users/prashantn/power_rankings/data_exploration.ipynb#X23sZmlsZQ%3D%3D?line=8'>9</a>\u001b[0m teamLetters \u001b[39m=\u001b[39m teamID_to_teamLetters(single_game_df[single_game_df[\u001b[39m\"\u001b[39m\u001b[39meventType\u001b[39m\u001b[39m\"\u001b[39m] \u001b[39m==\u001b[39m \u001b[39m\"\u001b[39m\u001b[39mgame_info\u001b[39m\u001b[39m\"\u001b[39m])\n\u001b[1;32m     <a href='vscode-notebook-cell:/Users/prashantn/power_rankings/data_exploration.ipynb#X23sZmlsZQ%3D%3D?line=9'>10</a>\u001b[0m players_to_team \u001b[39m=\u001b[39m get_players_to_team(single_game_df[single_game_df[\u001b[39m\"\u001b[39m\u001b[39meventType\u001b[39m\u001b[39m\"\u001b[39m] \u001b[39m==\u001b[39m \u001b[39m\"\u001b[39m\u001b[39mgame_info\u001b[39m\u001b[39m\"\u001b[39m])\n\u001b[1;32m     <a href='vscode-notebook-cell:/Users/prashantn/power_rankings/data_exploration.ipynb#X23sZmlsZQ%3D%3D?line=10'>11</a>\u001b[0m model_dict \u001b[39m=\u001b[39m {\n\u001b[1;32m     <a href='vscode-notebook-cell:/Users/prashantn/power_rankings/data_exploration.ipynb#X23sZmlsZQ%3D%3D?line=11'>12</a>\u001b[0m     \u001b[39m'\u001b[39m\u001b[39mgame\u001b[39m\u001b[39m'\u001b[39m: get_game_id(single_game_df),\n\u001b[0;32m---> <a href='vscode-notebook-cell:/Users/prashantn/power_rankings/data_exploration.ipynb#X23sZmlsZQ%3D%3D?line=12'>13</a>\u001b[0m     \u001b[39m'\u001b[39m\u001b[39mnumKills\u001b[39m\u001b[39m'\u001b[39m: get_num_kills(single_game_df, teamLetters),\n\u001b[1;32m     <a href='vscode-notebook-cell:/Users/prashantn/power_rankings/data_exploration.ipynb#X23sZmlsZQ%3D%3D?line=13'>14</a>\u001b[0m     \u001b[39m'\u001b[39m\u001b[39mnumWards\u001b[39m\u001b[39m'\u001b[39m: get_num_wards(single_game_df, teamLetters, players_to_team),\n\u001b[1;32m     <a href='vscode-notebook-cell:/Users/prashantn/power_rankings/data_exploration.ipynb#X23sZmlsZQ%3D%3D?line=14'>15</a>\u001b[0m     \u001b[39m'\u001b[39m\u001b[39mfirstBlood\u001b[39m\u001b[39m'\u001b[39m: get_first_blood(single_game_df, teamLetters, players_to_team),\n\u001b[1;32m     <a href='vscode-notebook-cell:/Users/prashantn/power_rankings/data_exploration.ipynb#X23sZmlsZQ%3D%3D?line=15'>16</a>\u001b[0m     \u001b[39m'\u001b[39m\u001b[39mwins\u001b[39m\u001b[39m'\u001b[39m: get_winning_team(single_game_df, teamLetters),\n\u001b[1;32m     <a href='vscode-notebook-cell:/Users/prashantn/power_rankings/data_exploration.ipynb#X23sZmlsZQ%3D%3D?line=16'>17</a>\u001b[0m     \u001b[39m'\u001b[39m\u001b[39mlosses\u001b[39m\u001b[39m'\u001b[39m: get_losing_team(single_game_df, teamLetters),\n\u001b[1;32m     <a href='vscode-notebook-cell:/Users/prashantn/power_rankings/data_exploration.ipynb#X23sZmlsZQ%3D%3D?line=17'>18</a>\u001b[0m }\n\u001b[1;32m     <a href='vscode-notebook-cell:/Users/prashantn/power_rankings/data_exploration.ipynb#X23sZmlsZQ%3D%3D?line=18'>19</a>\u001b[0m \u001b[39m# print(model_dict)\u001b[39;00m\n\u001b[1;32m     <a href='vscode-notebook-cell:/Users/prashantn/power_rankings/data_exploration.ipynb#X23sZmlsZQ%3D%3D?line=19'>20</a>\u001b[0m \u001b[39m# return pd.DataFrame.from_dict(model_dict)\u001b[39;00m\n\u001b[1;32m     <a href='vscode-notebook-cell:/Users/prashantn/power_rankings/data_exploration.ipynb#X23sZmlsZQ%3D%3D?line=20'>21</a>\u001b[0m \u001b[39mreturn\u001b[39;00m model_dict\n",
            "\u001b[1;32m/Users/prashantn/power_rankings/data_exploration.ipynb Cell 19\u001b[0m line \u001b[0;36m7\n\u001b[1;32m      <a href='vscode-notebook-cell:/Users/prashantn/power_rankings/data_exploration.ipynb#X23sZmlsZQ%3D%3D?line=3'>4</a>\u001b[0m kill_info \u001b[39m=\u001b[39m single_game_df[single_game_df[\u001b[39m\"\u001b[39m\u001b[39meventType\u001b[39m\u001b[39m\"\u001b[39m] \u001b[39m==\u001b[39m \u001b[39m\"\u001b[39m\u001b[39mchampion_kill\u001b[39m\u001b[39m\"\u001b[39m]\n\u001b[1;32m      <a href='vscode-notebook-cell:/Users/prashantn/power_rankings/data_exploration.ipynb#X23sZmlsZQ%3D%3D?line=5'>6</a>\u001b[0m \u001b[39mfor\u001b[39;00m _, row \u001b[39min\u001b[39;00m kill_info\u001b[39m.\u001b[39miterrows():\n\u001b[0;32m----> <a href='vscode-notebook-cell:/Users/prashantn/power_rankings/data_exploration.ipynb#X23sZmlsZQ%3D%3D?line=6'>7</a>\u001b[0m     numKills[teamLetters[\u001b[39mint\u001b[39;49m(row[\u001b[39m\"\u001b[39;49m\u001b[39mkillerTeamID\u001b[39;49m\u001b[39m\"\u001b[39;49m])]] \u001b[39m+\u001b[39m\u001b[39m=\u001b[39m \u001b[39m1\u001b[39m\n\u001b[1;32m      <a href='vscode-notebook-cell:/Users/prashantn/power_rankings/data_exploration.ipynb#X23sZmlsZQ%3D%3D?line=8'>9</a>\u001b[0m \u001b[39mreturn\u001b[39;00m numKills\n",
            "\u001b[0;31mKeyError\u001b[0m: 300"
          ]
        }
      ],
      "source": [
        "games_folder = os.listdir(\"games\")\n",
        "games = games_folder[:40]\n",
        "\n",
        "dfs = defaultdict(int)\n",
        "\n",
        "for game in games:\n",
        "    single_game_df = pd.read_json(f\"games/{game}\")\n",
        "    linear_df = transform_to_linear_model_df(single_game_df=single_game_df)\n",
        "    for feature,team_to_float in linear_df.items():\n",
        "        # print(team_to_float)\n",
        "        if feature != \"game\":\n",
        "            for team, val in team_to_float.items():\n",
        "                if feature in dfs:\n",
        "                    if team in dfs[feature]:\n",
        "                        dfs[feature][team] += val\n",
        "                    else:\n",
        "                        dfs[feature][team] = val\n",
        "                else:\n",
        "                    dfs[feature] = {}\n",
        "\n",
        "print(dfs)\n",
        "linear = pd.DataFrame.from_dict(dfs)\n",
        "linear"
      ]
    },
    {
      "cell_type": "code",
      "execution_count": 24,
      "metadata": {},
      "outputs": [],
      "source": [
        "features = [\"numKills\", \"numWards\", \"firstBlood\"]\n",
        "predict = [\"wins\"]"
      ]
    },
    {
      "cell_type": "code",
      "execution_count": 30,
      "metadata": {},
      "outputs": [
        {
          "data": {
            "text/html": [
              "<div>\n",
              "<style scoped>\n",
              "    .dataframe tbody tr th:only-of-type {\n",
              "        vertical-align: middle;\n",
              "    }\n",
              "\n",
              "    .dataframe tbody tr th {\n",
              "        vertical-align: top;\n",
              "    }\n",
              "\n",
              "    .dataframe thead th {\n",
              "        text-align: right;\n",
              "    }\n",
              "</style>\n",
              "<table border=\"1\" class=\"dataframe\">\n",
              "  <thead>\n",
              "    <tr style=\"text-align: right;\">\n",
              "      <th></th>\n",
              "      <th>numKills</th>\n",
              "      <th>numWards</th>\n",
              "      <th>firstBlood</th>\n",
              "      <th>wins</th>\n",
              "      <th>losses</th>\n",
              "      <th>winRatio</th>\n",
              "    </tr>\n",
              "  </thead>\n",
              "  <tbody>\n",
              "    <tr>\n",
              "      <th>CCG</th>\n",
              "      <td>25</td>\n",
              "      <td>76</td>\n",
              "      <td>1</td>\n",
              "      <td>1</td>\n",
              "      <td>1</td>\n",
              "      <td>0.500000</td>\n",
              "    </tr>\n",
              "    <tr>\n",
              "      <th>TRV</th>\n",
              "      <td>66</td>\n",
              "      <td>213</td>\n",
              "      <td>2</td>\n",
              "      <td>2</td>\n",
              "      <td>1</td>\n",
              "      <td>0.666667</td>\n",
              "    </tr>\n",
              "    <tr>\n",
              "      <th>TA</th>\n",
              "      <td>120</td>\n",
              "      <td>789</td>\n",
              "      <td>3</td>\n",
              "      <td>4</td>\n",
              "      <td>4</td>\n",
              "      <td>0.500000</td>\n",
              "    </tr>\n",
              "    <tr>\n",
              "      <th>TET</th>\n",
              "      <td>52</td>\n",
              "      <td>207</td>\n",
              "      <td>2</td>\n",
              "      <td>1</td>\n",
              "      <td>2</td>\n",
              "      <td>0.333333</td>\n",
              "    </tr>\n",
              "    <tr>\n",
              "      <th>COLD</th>\n",
              "      <td>21</td>\n",
              "      <td>230</td>\n",
              "      <td>1</td>\n",
              "      <td>1</td>\n",
              "      <td>0</td>\n",
              "      <td>1.000000</td>\n",
              "    </tr>\n",
              "    <tr>\n",
              "      <th>LIT</th>\n",
              "      <td>99</td>\n",
              "      <td>620</td>\n",
              "      <td>1</td>\n",
              "      <td>2</td>\n",
              "      <td>3</td>\n",
              "      <td>0.400000</td>\n",
              "    </tr>\n",
              "    <tr>\n",
              "      <th>CFY</th>\n",
              "      <td>135</td>\n",
              "      <td>774</td>\n",
              "      <td>5</td>\n",
              "      <td>4</td>\n",
              "      <td>3</td>\n",
              "      <td>0.571429</td>\n",
              "    </tr>\n",
              "    <tr>\n",
              "      <th>GHG</th>\n",
              "      <td>83</td>\n",
              "      <td>343</td>\n",
              "      <td>3</td>\n",
              "      <td>2</td>\n",
              "      <td>3</td>\n",
              "      <td>0.400000</td>\n",
              "    </tr>\n",
              "    <tr>\n",
              "      <th>WU</th>\n",
              "      <td>119</td>\n",
              "      <td>602</td>\n",
              "      <td>4</td>\n",
              "      <td>3</td>\n",
              "      <td>3</td>\n",
              "      <td>0.500000</td>\n",
              "    </tr>\n",
              "    <tr>\n",
              "      <th>MIR</th>\n",
              "      <td>152</td>\n",
              "      <td>737</td>\n",
              "      <td>2</td>\n",
              "      <td>6</td>\n",
              "      <td>1</td>\n",
              "      <td>0.857143</td>\n",
              "    </tr>\n",
              "    <tr>\n",
              "      <th>AMI</th>\n",
              "      <td>38</td>\n",
              "      <td>344</td>\n",
              "      <td>1</td>\n",
              "      <td>0</td>\n",
              "      <td>3</td>\n",
              "      <td>0.000000</td>\n",
              "    </tr>\n",
              "    <tr>\n",
              "      <th>CBG</th>\n",
              "      <td>10</td>\n",
              "      <td>61</td>\n",
              "      <td>1</td>\n",
              "      <td>0</td>\n",
              "      <td>1</td>\n",
              "      <td>0.000000</td>\n",
              "    </tr>\n",
              "    <tr>\n",
              "      <th>ROTM</th>\n",
              "      <td>37</td>\n",
              "      <td>308</td>\n",
              "      <td>0</td>\n",
              "      <td>0</td>\n",
              "      <td>4</td>\n",
              "      <td>0.000000</td>\n",
              "    </tr>\n",
              "    <tr>\n",
              "      <th>OLD</th>\n",
              "      <td>37</td>\n",
              "      <td>312</td>\n",
              "      <td>2</td>\n",
              "      <td>2</td>\n",
              "      <td>1</td>\n",
              "      <td>0.666667</td>\n",
              "    </tr>\n",
              "    <tr>\n",
              "      <th>KMD</th>\n",
              "      <td>15</td>\n",
              "      <td>58</td>\n",
              "      <td>1</td>\n",
              "      <td>1</td>\n",
              "      <td>0</td>\n",
              "      <td>1.000000</td>\n",
              "    </tr>\n",
              "  </tbody>\n",
              "</table>\n",
              "</div>"
            ],
            "text/plain": [
              "      numKills  numWards  firstBlood  wins  losses  winRatio\n",
              "CCG         25        76           1     1       1  0.500000\n",
              "TRV         66       213           2     2       1  0.666667\n",
              "TA         120       789           3     4       4  0.500000\n",
              "TET         52       207           2     1       2  0.333333\n",
              "COLD        21       230           1     1       0  1.000000\n",
              "LIT         99       620           1     2       3  0.400000\n",
              "CFY        135       774           5     4       3  0.571429\n",
              "GHG         83       343           3     2       3  0.400000\n",
              "WU         119       602           4     3       3  0.500000\n",
              "MIR        152       737           2     6       1  0.857143\n",
              "AMI         38       344           1     0       3  0.000000\n",
              "CBG         10        61           1     0       1  0.000000\n",
              "ROTM        37       308           0     0       4  0.000000\n",
              "OLD         37       312           2     2       1  0.666667\n",
              "KMD         15        58           1     1       0  1.000000"
            ]
          },
          "execution_count": 30,
          "metadata": {},
          "output_type": "execute_result"
        }
      ],
      "source": [
        "linear['winRatio'] = linear['wins']/(linear['wins'] + linear['losses'])\n",
        "linear"
      ]
    },
    {
      "cell_type": "code",
      "execution_count": 31,
      "metadata": {},
      "outputs": [],
      "source": [
        "def fit_model(df):\n",
        "    \"\"\"\n",
        "    return coeffs, intercept\n",
        "    \"\"\"\n",
        "    regr = linear_model.LinearRegression()\n",
        "    regr.fit(df[features], df[\"winRatio\"])\n",
        "\n",
        "    feat_to_coef = {}\n",
        "    for feat, coef in zip(features, regr.coef_):\n",
        "        feat_to_coef[feat] = coef\n",
        "\n",
        "    return regr.intercept_, feat_to_coef\n"
      ]
    },
    {
      "cell_type": "code",
      "execution_count": null,
      "metadata": {},
      "outputs": [],
      "source": []
    },
    {
      "cell_type": "code",
      "execution_count": 33,
      "metadata": {},
      "outputs": [
        {
          "data": {
            "text/plain": [
              "(0.41896732052870467,\n",
              " {'numKills': 0.003739864903306314,\n",
              "  'numWards': -0.000614942627725131,\n",
              "  'firstBlood': 0.028496174813236085})"
            ]
          },
          "execution_count": 33,
          "metadata": {},
          "output_type": "execute_result"
        }
      ],
      "source": [
        "intercept_, coeff = fit_model(linear)\n",
        "intercept_, coeff"
      ]
    },
    {
      "cell_type": "code",
      "execution_count": 38,
      "metadata": {},
      "outputs": [
        {
          "data": {
            "text/plain": [
              "0.01915918413918927"
            ]
          },
          "execution_count": 38,
          "metadata": {},
          "output_type": "execute_result"
        }
      ],
      "source": [
        "single_game = pd.read_json(\"games/ESPORTSTMNT03_3200614.json\")\n",
        "test = transform_to_linear_model_df(single_game)\n",
        "\n",
        "(test['numKills']['TET'] * coeff['numKills']) + (test['numWards']['TET'] * coeff['numWards']) + (test['firstBlood']['TET'] * coeff['firstBlood'])"
      ]
    },
    {
      "cell_type": "code",
      "execution_count": 37,
      "metadata": {},
      "outputs": [
        {
          "data": {
            "text/plain": [
              "{'game': 'ESPORTSTMNT03:3200614',\n",
              " 'numKills': defaultdict(int, {'TET': 10, 'TA': 18}),\n",
              " 'numWards': defaultdict(int, {'TA': 89, 'TET': 76}),\n",
              " 'firstBlood': {'TET': 1, 'TA': 0},\n",
              " 'wins': {'TET': 0, 'TA': 1},\n",
              " 'losses': {'TET': 1, 'TA': 0}}"
            ]
          },
          "execution_count": 37,
          "metadata": {},
          "output_type": "execute_result"
        }
      ],
      "source": [
        "test"
      ]
    },
    {
      "cell_type": "code",
      "execution_count": null,
      "metadata": {},
      "outputs": [],
      "source": []
    }
  ],
  "metadata": {
    "kernelspec": {
      "display_name": "Python 3",
      "language": "python",
      "name": "python3"
    },
    "language_info": {
      "codemirror_mode": {
        "name": "ipython",
        "version": 3
      },
      "file_extension": ".py",
      "mimetype": "text/x-python",
      "name": "python",
      "nbconvert_exporter": "python",
      "pygments_lexer": "ipython3",
      "version": "3.10.8"
    },
    "orig_nbformat": 4
  },
  "nbformat": 4,
  "nbformat_minor": 2
}
