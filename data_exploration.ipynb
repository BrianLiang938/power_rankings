{
  "cells": [
    {
      "cell_type": "markdown",
      "metadata": {},
      "source": [
        "# Data Exploration"
      ]
    },
    {
      "cell_type": "markdown",
      "metadata": {},
      "source": [
        "Loading in the data and learning more about what we have access to"
      ]
    },
    {
      "cell_type": "code",
      "execution_count": 22,
      "metadata": {},
      "outputs": [],
      "source": [
        "import pandas as pd\n",
        "from collections import defaultdict"
      ]
    },
    {
      "cell_type": "code",
      "execution_count": 3,
      "metadata": {},
      "outputs": [],
      "source": [
        "leagues_df = pd.read_json(\"esports-data/leagues.json\")\n",
        "players_df = pd.read_json(\"esports-data/players.json\")\n",
        "teams_df = pd.read_json(\"esports-data/teams.json\")\n",
        "tournaments_df = pd.read_json(\"esports-data/tournaments.json\")"
      ]
    },
    {
      "cell_type": "code",
      "execution_count": 10,
      "metadata": {},
      "outputs": [],
      "source": [
        "single_game_df = pd.read_json(\"games/ESPORTSTMNT03_3195064.json\")\n",
        "\n",
        "game_info = single_game_df[single_game_df[\"eventType\"] == \"game_info\"]"
      ]
    },
    {
      "cell_type": "code",
      "execution_count": 23,
      "metadata": {},
      "outputs": [],
      "source": [
        "def get_team_players(game_info):\n",
        "    participants = game_info[\"participants\"]\n",
        "    team = defaultdict(list)\n",
        "    for participant in participants:\n",
        "        for info in participant:\n",
        "            team[info[\"teamID\"]].append(info)\n",
        "\n",
        "    return team"
      ]
    },
    {
      "cell_type": "code",
      "execution_count": 41,
      "metadata": {},
      "outputs": [
        {
          "data": {
            "text/plain": [
              "{'building_destroyed',\n",
              " 'champion_kill',\n",
              " 'champion_kill_special',\n",
              " 'champion_level_up',\n",
              " 'epic_monster_kill',\n",
              " 'epic_monster_spawn',\n",
              " 'game_end',\n",
              " 'game_info',\n",
              " 'item_destroyed',\n",
              " 'item_purchased',\n",
              " 'item_sold',\n",
              " 'item_undo',\n",
              " 'objective_bounty_prestart',\n",
              " 'queued_dragon_info',\n",
              " 'queued_epic_monster_info',\n",
              " 'skill_level_up',\n",
              " 'stats_update',\n",
              " 'summoner_spell_used',\n",
              " 'turret_plate_destroyed',\n",
              " 'turret_plate_gold_earned',\n",
              " 'ward_killed',\n",
              " 'ward_placed'}"
            ]
          },
          "execution_count": 41,
          "metadata": {},
          "output_type": "execute_result"
        }
      ],
      "source": [
        "set(single_game_df[\"eventType\"])"
      ]
    },
    {
      "cell_type": "code",
      "execution_count": 89,
      "metadata": {},
      "outputs": [],
      "source": [
        "teams_to_players = get_team_players(game_info)\n",
        "players_to_team = {}\n",
        "for team_id,info in teams_to_players.items():\n",
        "    for player in info:\n",
        "        players_to_team[player[\"participantID\"]] = player[\"teamID\"]"
      ]
    },
    {
      "cell_type": "code",
      "execution_count": 90,
      "metadata": {},
      "outputs": [],
      "source": [
        "# I want to have a dataframe that holds the following:\n",
        "\"\"\"\n",
        "        numKills | numWards | firstBlood | turretsDestroyed | turretPlateGold | numItems | numDragsKilled | numBarons\n",
        "team1: \n",
        "team2:\n",
        "\"\"\"\n",
        "\n",
        "team_ids = list(set(teams_to_players.keys()))\n",
        "model_dict = {\n",
        "    'teamID': team_ids,\n",
        "    'numKills': [\"\",\"\"],\n",
        "    'numWards': [\"\",\"\"],\n",
        "    'firstBlood': [\"\",\"\"],\n",
        "    'turretsDestroyed': [\"\",\"\"],\n",
        "    'turretPlateGold': [\"\",\"\"],\n",
        "    'numItems': [\"\",\"\"],\n",
        "    \"numDragsKilled\": [\"\",\"\"],\n",
        "    'numBarons': [\"\",\"\"],\n",
        "}"
      ]
    },
    {
      "cell_type": "code",
      "execution_count": 91,
      "metadata": {},
      "outputs": [
        {
          "data": {
            "text/plain": [
              "{'teamID': [200, 100],\n",
              " 'numKills': [15, 27],\n",
              " 'numWards': ['', ''],\n",
              " 'firstBlood': ['', ''],\n",
              " 'turretsDestroyed': ['', ''],\n",
              " 'turretPlateGold': ['', ''],\n",
              " 'numItems': ['', ''],\n",
              " 'numDragsKilled': ['', ''],\n",
              " 'numBarons': ['', '']}"
            ]
          },
          "execution_count": 91,
          "metadata": {},
          "output_type": "execute_result"
        }
      ],
      "source": [
        "# Get numKills\n",
        "numKills = defaultdict(int)\n",
        "kill_info = single_game_df[single_game_df[\"eventType\"] == \"champion_kill\"]\n",
        "\n",
        "for index, row in kill_info.iterrows():\n",
        "    numKills[row[\"killerTeamID\"]] += 1\n",
        "\n",
        "model_dict[\"numKills\"] = list(numKills.values())\n",
        "\n",
        "model_dict"
      ]
    },
    {
      "cell_type": "code",
      "execution_count": 92,
      "metadata": {},
      "outputs": [
        {
          "data": {
            "text/plain": [
              "{'teamID': [200, 100],\n",
              " 'numKills': [15, 27],\n",
              " 'numWards': [51, 41],\n",
              " 'firstBlood': ['', ''],\n",
              " 'turretsDestroyed': ['', ''],\n",
              " 'turretPlateGold': ['', ''],\n",
              " 'numItems': ['', ''],\n",
              " 'numDragsKilled': ['', ''],\n",
              " 'numBarons': ['', '']}"
            ]
          },
          "execution_count": 92,
          "metadata": {},
          "output_type": "execute_result"
        }
      ],
      "source": [
        "#Get numWards\n",
        "numWards = defaultdict(int)\n",
        "ward_info = single_game_df[single_game_df[\"eventType\"] == \"ward_placed\"]\n",
        "\n",
        "for index, row in ward_info.iterrows():\n",
        "    numWards[players_to_team[row[\"placer\"]]] += 1\n",
        "\n",
        "model_dict[\"numWards\"] = list(numWards.values())\n",
        "\n",
        "model_dict"
      ]
    },
    {
      "cell_type": "code",
      "execution_count": 104,
      "metadata": {},
      "outputs": [
        {
          "data": {
            "text/plain": [
              "{'teamID': [200, 100],\n",
              " 'numKills': [15, 27],\n",
              " 'numWards': [51, 41],\n",
              " 'firstBlood': [1],\n",
              " 'turretsDestroyed': ['', ''],\n",
              " 'turretPlateGold': ['', ''],\n",
              " 'numItems': ['', ''],\n",
              " 'numDragsKilled': ['', ''],\n",
              " 'numBarons': ['', '']}"
            ]
          },
          "execution_count": 104,
          "metadata": {},
          "output_type": "execute_result"
        }
      ],
      "source": [
        "#Get firstBlood\n",
        "firstBlood = defaultdict(int)\n",
        "\n",
        "firstBlood_df = single_game_df[single_game_df[\"killType\"] == \"firstBlood\"]\n",
        "firstBlood_df = firstBlood_df[firstBlood_df.columns[~firstBlood_df.isnull().all()]]\n",
        "\n",
        "for index, row in firstBlood_df.iterrows():\n",
        "    firstBlood[players_to_team[row[\"killer\"]]] += 1\n",
        "\n",
        "model_dict[\"firstBlood\"] = list(firstBlood.values())\n",
        "\n",
        "model_dict"
      ]
    },
    {
      "cell_type": "code",
      "execution_count": null,
      "metadata": {},
      "outputs": [],
      "source": []
    }
  ],
  "metadata": {
    "kernelspec": {
      "display_name": "Python 3",
      "language": "python",
      "name": "python3"
    },
    "language_info": {
      "codemirror_mode": {
        "name": "ipython",
        "version": 3
      },
      "file_extension": ".py",
      "mimetype": "text/x-python",
      "name": "python",
      "nbconvert_exporter": "python",
      "pygments_lexer": "ipython3",
      "version": "3.10.8"
    },
    "orig_nbformat": 4
  },
  "nbformat": 4,
  "nbformat_minor": 2
}
